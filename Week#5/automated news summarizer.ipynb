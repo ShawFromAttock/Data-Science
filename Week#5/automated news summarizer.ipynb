{
 "cells": [
  {
   "cell_type": "code",
   "execution_count": 1,
   "id": "eed66f6c",
   "metadata": {},
   "outputs": [],
   "source": [
    "from bs4 import BeautifulSoup\n",
    "from requests import get"
   ]
  },
  {
   "cell_type": "code",
   "execution_count": 2,
   "id": "c7525199",
   "metadata": {},
   "outputs": [],
   "source": [
    "def get_only_text(url):\n",
    "    \"\"\" \n",
    "   return the title and the text of the article\n",
    "   at the specified url\n",
    "   \"\"\"\n",
    "    page = get(url)\n",
    "    soup = BeautifulSoup(page.content, \"lxml\")\n",
    "    text = ' '.join(map(lambda p: p.text, soup.find_all('p')))\n",
    "    #text = soup.text\n",
    "    title = ' '.join(soup.title.stripped_strings)\n",
    "    return title , text"
   ]
  },
  {
   "cell_type": "code",
   "execution_count": 3,
   "id": "23be6fab",
   "metadata": {},
   "outputs": [],
   "source": [
    "text=get_only_text(\"https://en.wikinews.org/wiki/Global_markets_plunge\")"
   ]
  },
  {
   "cell_type": "code",
   "execution_count": 4,
   "id": "b4f697d2",
   "metadata": {},
   "outputs": [
    {
     "data": {
      "text/plain": [
       "2"
      ]
     },
     "execution_count": 4,
     "metadata": {},
     "output_type": "execute_result"
    }
   ],
   "source": [
    "len(text)"
   ]
  },
  {
   "cell_type": "code",
   "execution_count": 5,
   "id": "494dc095",
   "metadata": {},
   "outputs": [
    {
     "data": {
      "text/plain": [
       "'Global markets plunge - Wikinews, the free news source'"
      ]
     },
     "execution_count": 5,
     "metadata": {},
     "output_type": "execute_result"
    }
   ],
   "source": [
    "text[0]"
   ]
  },
  {
   "cell_type": "code",
   "execution_count": 6,
   "id": "2f20fada",
   "metadata": {},
   "outputs": [
    {
     "data": {
      "text/plain": [
       "('Global markets plunge - Wikinews, the free news source',\n",
       " 'Friday, October 10, 2008\\xa0\\n Stock markets across the world have fallen sharply with several seeing the biggest drop in their history. \\n Asian markets saw the biggest sell-off. The Nikkei dropped 9.62% to reach a 20 year low. Japan also saw a collapse of a mid-size insurance company, Yamato Life Insurance Company, which declared bankruptcy.  The Hang Seng, which was one of the few markets that was positive yesterday, fell 7.19%. Australia dropped by 8.4% and South Korea saw a 9% fall. \\n In Europe, markets dropped at the open with the FTSE losing 11%. They have recovered only sightly with all European markets losing more than 5%. The European sell off was more about the Asian lows then any specific news. European banks and financial institutes saw the most selling. Also, oil related companies saw large drops as an result of an expected decrease in oil consumption. \\n\\n The U.S. markets opened lower with the Dow Jones Industrial Average falling below 8,000, before recovering slightly.  President George W. Bush made an address on the economy and said markets were being \"driven by uncertainty and fear.\"\\n Oil has seen losses of more than US$6 in trading with the current price of a barrel of oil less than $80. This is a year low for oil. News also came out that OPEC will hold an emergency meeting on November 18 to discuss the falling price of oil. \\n Charities, such as Cats Protection, today said that they have lost much of their funds in collapsing banks. Cats Protection had a total of £11.2 million saved in the now-collapsed Kaupthing bank.\\n The British National Council for Voluntary Organisations said that 60 of its 6,500 have lost money due to the collapse of banks.\\n The Dow Jones Industrial Average fell to its lowest level in five years at 8,579.19, falling 679 points in one day. This, at 7.3%, is the eleventh largest percentage fall in the history of the index. The growth then continued, with the index being up over 150 points on the start of the day at one point.\\n The index, did however, recover, and as of 19:30 UTC was up 17.68 points, or 0.21%, pushing the index up to almost 8600. \\n Peter Cardillo, chief market economist at Avalon Partners, commented on these massive falls. \"What we\\'ve seen here was one big margin call that just kept feeding on itself, so the opposite could happen. But you need a catalyst,\" he said. \"I\\'m more convinced now than ever that this market has made a bottom. The capitulation came when we breached 8,000,\" he continued. \"It doesn\\'t mean we can\\'t go back and revisit that level.\"\\n The UK\\'s FTSE 100 index fell dramatically to close below 4000, in the index\\'s worst week in history. This is despite the fact that just a few days ago the index was above 5000, and the index peaked above 5500 in September.The FTSE 100 index has fallen by 41% this year.\\n Barclays Wealth analyst Henk Potts commented on this massive fall. “We are drowning in a sea of red numbers,” he claimed. “Investors are concerned about the exacerbation of the credit crunch and the gloomy forecasts for economic growth. The reality is that most investors have been spooked by the sheer pressure that the credit crunch is putting on the global economy.”\\n The Japanese Nikkei 225 has recorded it\\'s third biggest drop in history with a massive sell-off in the exchange that has resulted in USD 250 billion being knocked of the index\\'s value.\\n Toyota, which is the second largest carmaker in the world, fell by the largest amount in 21 years, while Elpida Memory, the world\\'s largest manufacturer of computer memory, dropped in value to a record low.\\n Masafumi Oshiden, a fund manager in Toyota commented on the drop.\"It\\'s capitulation,\" he said. \"There are lots of forced sellers. If you\\'re a fund that\\'s going bust you need to close out all your positions.\"\\n George W. Bush commented on the financial situation earlier today. \"Over the past few days, we have witnessed a startling drop in the stock market -- much of it driven by uncertainty and fear,\" he said. \"This has been a deeply unsettling period for the American people. Many of our citizens have serious concerns about their retirement accounts, their investments, and their economic well-being.\"\\n Bush then continued by promoting the government\\'s plan\\'s to get through the crises. \"Here\\'s what the American people need to know: that the United States government is acting; we will continue to act to resolve this crisis and restore stability to our markets. We are a prosperous nation with immense resources and a wide range of tools at our disposal. We\\'re using these tools aggressively.\"\\n Gordon Brown, the UK Prime Minister, also spoke on the economy. “I think we quickly realised that we cannot solve the problems we have got as a result of the sub-prime market collapse simply by improving liquidity,\" he said speaking in Birmingham to business leaders earlier today. “That would simply not be enough to deal with the bigger problem of rebuilding the banking system for the future and restoring trust is a fundamental element of that.”\\n Jim Flaherty, the Canadian minister for finance, also commented today on the recent incidents in the economy. \"It is important to underline that Canada\\'s banks and other financial institutions are sound, well capitalized and less leveraged than their international peers,\" he claimed. \"Our mortgage system is sound. Canadian households have smaller mortgages relative both to the value of their homes and to their disposable incomes than in the U.S.\"\\n \"\"However, it is becoming increasingly clear that the continuing disruption of global credit markets, which has been severe and protracted, is making it difficult for our financial institutions to raise long-term funding. This is beginning to affect the availability of mortgage loans and other types of credit in Canada,\" he continued. \"The Government has therefore decided to act to address the current scarcity of private sector lending to Canadian mortgage markets and lending markets overall. This is going to make loans and mortgages more available and more affordable for ordinary Canadians and businesses.\"\\n \\n Have an opinion on this story? Share it!\\n Share this:\\xa0\\n\\n\\n\\n\\n\\n \\n This page is archived, and is no longer publicly editable.\\n Got a correction? Add the template {{editprotected}} to the talk page along with your corrections, and it will be brought to the attention of the administrators.\\n Please note that due to our archival policy, we will not alter or update the content of articles that are archived, but will only accept requests to make grammatical and formatting corrections.\\n Note that some listed sources or external links may no longer be available online due to age.\\n Got a correction? Add the template {{editprotected}} to the talk page along with your corrections, and it will be brought to the attention of the administrators.\\n Please note that due to our archival policy, we will not alter or update the content of articles that are archived, but will only accept requests to make grammatical and formatting corrections.\\n')"
      ]
     },
     "execution_count": 6,
     "metadata": {},
     "output_type": "execute_result"
    }
   ],
   "source": [
    "text"
   ]
  },
  {
   "cell_type": "code",
   "execution_count": 7,
   "id": "aefa2470",
   "metadata": {},
   "outputs": [
    {
     "data": {
      "text/plain": [
       "1174"
      ]
     },
     "execution_count": 7,
     "metadata": {},
     "output_type": "execute_result"
    }
   ],
   "source": [
    "len(str.split(text[1]))"
   ]
  },
  {
   "cell_type": "code",
   "execution_count": 8,
   "id": "8db4f2e6",
   "metadata": {},
   "outputs": [
    {
     "name": "stderr",
     "output_type": "stream",
     "text": [
      "C:\\Users\\zaina\\AppData\\Local\\Programs\\Python\\Python310\\lib\\site-packages\\gensim\\utils.py:1197: UserWarning: detected Windows; aliasing chunkize to chunkize_serial\n",
      "  warnings.warn(\"detected Windows; aliasing chunkize to chunkize_serial\")\n"
     ]
    },
    {
     "ename": "ImportError",
     "evalue": "cannot import name 'Mapping' from 'collections' (C:\\Users\\zaina\\AppData\\Local\\Programs\\Python\\Python310\\lib\\collections\\__init__.py)",
     "output_type": "error",
     "traceback": [
      "\u001b[1;31m---------------------------------------------------------------------------\u001b[0m",
      "\u001b[1;31mImportError\u001b[0m                               Traceback (most recent call last)",
      "Cell \u001b[1;32mIn [8], line 1\u001b[0m\n\u001b[1;32m----> 1\u001b[0m \u001b[38;5;28;01mfrom\u001b[39;00m \u001b[38;5;21;01mgensim\u001b[39;00m\u001b[38;5;21;01m.\u001b[39;00m\u001b[38;5;21;01msummarization\u001b[39;00m\u001b[38;5;21;01m.\u001b[39;00m\u001b[38;5;21;01msummarizer\u001b[39;00m \u001b[38;5;28;01mimport\u001b[39;00m summarize\n\u001b[0;32m      2\u001b[0m \u001b[38;5;28;01mfrom\u001b[39;00m \u001b[38;5;21;01mgensim\u001b[39;00m\u001b[38;5;21;01m.\u001b[39;00m\u001b[38;5;21;01msummarization\u001b[39;00m \u001b[38;5;28;01mimport\u001b[39;00m keywords\n",
      "File \u001b[1;32m~\\AppData\\Local\\Programs\\Python\\Python310\\lib\\site-packages\\gensim\\__init__.py:5\u001b[0m\n\u001b[0;32m      1\u001b[0m \u001b[38;5;124;03m\"\"\"This package contains interfaces and functionality to compute pair-wise document similarities within a corpus\u001b[39;00m\n\u001b[0;32m      2\u001b[0m \u001b[38;5;124;03mof documents.\u001b[39;00m\n\u001b[0;32m      3\u001b[0m \u001b[38;5;124;03m\"\"\"\u001b[39;00m\n\u001b[1;32m----> 5\u001b[0m \u001b[38;5;28;01mfrom\u001b[39;00m \u001b[38;5;21;01mgensim\u001b[39;00m \u001b[38;5;28;01mimport\u001b[39;00m parsing, corpora, matutils, interfaces, models, similarities, summarization, utils  \u001b[38;5;66;03m# noqa:F401\u001b[39;00m\n\u001b[0;32m      6\u001b[0m \u001b[38;5;28;01mimport\u001b[39;00m \u001b[38;5;21;01mlogging\u001b[39;00m\n\u001b[0;32m      8\u001b[0m __version__ \u001b[38;5;241m=\u001b[39m \u001b[38;5;124m'\u001b[39m\u001b[38;5;124m3.4.0\u001b[39m\u001b[38;5;124m'\u001b[39m\n",
      "File \u001b[1;32m~\\AppData\\Local\\Programs\\Python\\Python310\\lib\\site-packages\\gensim\\corpora\\__init__.py:12\u001b[0m\n\u001b[0;32m     10\u001b[0m \u001b[38;5;28;01mfrom\u001b[39;00m \u001b[38;5;21;01m.\u001b[39;00m\u001b[38;5;21;01msvmlightcorpus\u001b[39;00m \u001b[38;5;28;01mimport\u001b[39;00m SvmLightCorpus  \u001b[38;5;66;03m# noqa:F401\u001b[39;00m\n\u001b[0;32m     11\u001b[0m \u001b[38;5;28;01mfrom\u001b[39;00m \u001b[38;5;21;01m.\u001b[39;00m\u001b[38;5;21;01mlowcorpus\u001b[39;00m \u001b[38;5;28;01mimport\u001b[39;00m LowCorpus  \u001b[38;5;66;03m# noqa:F401\u001b[39;00m\n\u001b[1;32m---> 12\u001b[0m \u001b[38;5;28;01mfrom\u001b[39;00m \u001b[38;5;21;01m.\u001b[39;00m\u001b[38;5;21;01mdictionary\u001b[39;00m \u001b[38;5;28;01mimport\u001b[39;00m Dictionary  \u001b[38;5;66;03m# noqa:F401\u001b[39;00m\n\u001b[0;32m     13\u001b[0m \u001b[38;5;28;01mfrom\u001b[39;00m \u001b[38;5;21;01m.\u001b[39;00m\u001b[38;5;21;01mhashdictionary\u001b[39;00m \u001b[38;5;28;01mimport\u001b[39;00m HashDictionary  \u001b[38;5;66;03m# noqa:F401\u001b[39;00m\n\u001b[0;32m     14\u001b[0m \u001b[38;5;28;01mfrom\u001b[39;00m \u001b[38;5;21;01m.\u001b[39;00m\u001b[38;5;21;01mwikicorpus\u001b[39;00m \u001b[38;5;28;01mimport\u001b[39;00m WikiCorpus  \u001b[38;5;66;03m# noqa:F401\u001b[39;00m\n",
      "File \u001b[1;32m~\\AppData\\Local\\Programs\\Python\\Python310\\lib\\site-packages\\gensim\\corpora\\dictionary.py:12\u001b[0m\n\u001b[0;32m      8\u001b[0m \u001b[38;5;124;03m\"\"\"This module implements the concept of Dictionary -- a mapping between words and their integer ids.\"\"\"\u001b[39;00m\n\u001b[0;32m     10\u001b[0m \u001b[38;5;28;01mfrom\u001b[39;00m \u001b[38;5;21;01m__future__\u001b[39;00m \u001b[38;5;28;01mimport\u001b[39;00m with_statement\n\u001b[1;32m---> 12\u001b[0m \u001b[38;5;28;01mfrom\u001b[39;00m \u001b[38;5;21;01mcollections\u001b[39;00m \u001b[38;5;28;01mimport\u001b[39;00m Mapping, defaultdict\n\u001b[0;32m     13\u001b[0m \u001b[38;5;28;01mimport\u001b[39;00m \u001b[38;5;21;01msys\u001b[39;00m\n\u001b[0;32m     14\u001b[0m \u001b[38;5;28;01mimport\u001b[39;00m \u001b[38;5;21;01mlogging\u001b[39;00m\n",
      "\u001b[1;31mImportError\u001b[0m: cannot import name 'Mapping' from 'collections' (C:\\Users\\zaina\\AppData\\Local\\Programs\\Python\\Python310\\lib\\collections\\__init__.py)"
     ]
    }
   ],
   "source": [
    "from gensim.summarization.summarizer import summarize\n",
    "from gensim.summarization import keywords"
   ]
  },
  {
   "cell_type": "code",
   "execution_count": null,
   "id": "1b94959b",
   "metadata": {},
   "outputs": [],
   "source": []
  }
 ],
 "metadata": {
  "kernelspec": {
   "display_name": "Python 3 (ipykernel)",
   "language": "python",
   "name": "python3"
  },
  "language_info": {
   "codemirror_mode": {
    "name": "ipython",
    "version": 3
   },
   "file_extension": ".py",
   "mimetype": "text/x-python",
   "name": "python",
   "nbconvert_exporter": "python",
   "pygments_lexer": "ipython3",
   "version": "3.10.6"
  }
 },
 "nbformat": 4,
 "nbformat_minor": 5
}
